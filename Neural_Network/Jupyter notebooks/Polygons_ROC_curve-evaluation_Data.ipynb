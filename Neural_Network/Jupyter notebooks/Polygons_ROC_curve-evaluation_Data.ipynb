{
 "cells": [
  {
   "cell_type": "markdown",
   "metadata": {},
   "source": [
    "## evaluate_UNET_Selina - ROC-Curve\n",
    "\n",
    "\n",
    "In this notebook we apply the previously trained model to a set of images and evaluate the quality of the prediction.\n",
    "\n",
    "This includes the following steps:\n",
    "\n",
    "* load the original dataset\n",
    "* prerpocess the dataset (zero center, normalize to range -1 to 1)\n",
    "* feed the data to the model\n",
    "* find the ellipses in the predicted likelihood image\n",
    "* match pairs of predicted and original ellipses\n",
    "* calculate quality measures\n",
    "* calculate tpr and fpr for different thresholds\n",
    "\n",
    "### ROC-Curve\n",
    "receiver operating characteristic curve means plotting the true positive rate (TPR) against the false positive rate (FPR) for various thresholds.\n",
    "\n",
    "TPR is also known as the sensitivity/recall of the model\n",
    "$$ TPR = \\frac{TP}{P}$$, where TP is the number of GT ellipses detected by the network and P the total number of GT ellipses.\n",
    "\n",
    "FPR is the probability of false alarm\n",
    "\n",
    "$$FPR = \\frac{FP}{N} = \\frac{FP}{FP + TN} = 1 - TNR$$\n",
    "\n",
    "Since we do not know the total amount of negatives, we have to normalize the data as $FPR = \\frac{FP}{max(FP)}$. This allows us to compare the data."
   ]
  },
  {
   "cell_type": "code",
   "execution_count": 1,
   "metadata": {},
   "outputs": [
    {
     "name": "stdout",
     "output_type": "stream",
     "text": [
      "Unet_0-0-0.h5\t\t       Unet_0-0-4_20200423-075700.h5\n",
      "Unet_0-0-0_20200411-124102.h5  Unet_0-0-4_20200423-093523.h5\n",
      "Unet_0-0-1.h5\t\t       Unet_0-0-5_fl_RAda,_20200507-094138.h5\n",
      "Unet_0-0-1_20200411-120615.h5  Unet_0-0-5_fl_RAdam_20200426-134706.h5\n",
      "Unet_0-0-1_20200411-122810.h5  Unet_0-0-5_fl_RAdam_20200512-094113.h5\n",
      "Unet_0-0-1_20200411-132132.h5  Unet_0-0-5_fl_RAdam_20200522-122844.h5\n",
      "Unet_0-0-1_20200413-105017.h5  Unet_0-0-5_fl_RAdam_20200525-084831.h5\n",
      "Unet_0-0-2_20200413-190741.h5  Unet_0-0-5_fl_RAdam_20200602-100339.h5\n",
      "Unet_0-0-3_20200414-144612.h5  Unet_0-0-5_fl_RAdam_20200602-115253.h5\n",
      "Unet_0-0-4_20200423-064224.h5  Unet_0-0-5_fl_RAdam_20200603-153056.h5\n",
      "Unet_0-0-4_20200423-070809.h5  Unet_0-0-5_fl_RAdam_20200610-140630.h5\n",
      "Unet_0-0-4_20200423-070930.h5  Unet_0-0-5_fl_RAdam_20200610-141144.h5\n",
      "Unet_0-0-4_20200423-071031.h5  Unet_0-0-5_fl_RAdam_20200615-152004.h5\n",
      "Unet_0-0-4_20200423-071209.h5  Unet_0-0-5_fl_RAdam_20200615-191423.h5\n",
      "Unet_0-0-4_20200423-071259.h5  Unet_0-0-5_fl_RAdam_20200616-085000.h5\n",
      "Unet_0-0-4_20200423-071646.h5  Unet_0-0-5_fl_RAdam_20200616-205537.h5\n",
      "Unet_0-0-4_20200423-071827.h5  Unet_0-0-5_fl_lr_20200426-091810.h5\n",
      "Unet_0-0-4_20200423-073352.h5  Unet_0-0-5_fl_lr_20200426-092616.h5\n",
      "Unet_0-0-4_20200423-073554.h5  Unet_0-0-5_fl_lr_20200426-093438.h5\n",
      "Unet_0-0-4_20200423-074348.h5  Unet_0-0-5_fl_lr_20200426-100819.h5\n",
      "Unet_0-0-4_20200423-074559.h5\n"
     ]
    }
   ],
   "source": [
    "!ls /tf/results/models/"
   ]
  },
  {
   "cell_type": "code",
   "execution_count": 2,
   "metadata": {},
   "outputs": [
    {
     "name": "stdout",
     "output_type": "stream",
     "text": [
      "1 Physical GPUs, 1 Logical GPUs\n",
      "GPU device id:  /device:GPU:0\n",
      "GPU details: \n",
      " [name: \"/device:GPU:0\"\n",
      "device_type: \"GPU\"\n",
      "memory_limit: 137887744\n",
      "locality {\n",
      "  bus_id: 1\n",
      "  links {\n",
      "  }\n",
      "}\n",
      "incarnation: 525102523322067038\n",
      "physical_device_desc: \"device: 0, name: Quadro M4000, pci bus id: 0000:65:00.0, compute capability: 5.2\"\n",
      "]\n"
     ]
    }
   ],
   "source": [
    "import tensorflow as tf\n",
    "# TODO: remove after tf2.0 migration\n",
    "# handle tf API changes 1.x to 2.0\n",
    "from packaging import version\n",
    "if version.parse(tf.__version__) < version.parse('2.0'):\n",
    "    opts = tf.GPUOptions(per_process_gpu_memory_fraction=0.3)\n",
    "    sess = tf.Session(config=tf.ConfigProto(gpu_options=opts))\n",
    "else:\n",
    "    gpus = tf.config.experimental.list_physical_devices('GPU')\n",
    "    if gpus:\n",
    "      try:\n",
    "        # Currently, memory growth needs to be the same across GPUs\n",
    "        for gpu in gpus:\n",
    "          tf.config.experimental.set_memory_growth(gpu, True)\n",
    "        logical_gpus = tf.config.experimental.list_logical_devices('GPU')\n",
    "        print(len(gpus), \"Physical GPUs,\", len(logical_gpus), \"Logical GPUs\")\n",
    "      except RuntimeError as e:\n",
    "        # Memory growth must be set before GPUs have been initialized\n",
    "        print(e)\n",
    "## check if tf detected a GPU \n",
    "from tensorflow.python.client import device_lib\n",
    "\n",
    "def get_available_gpus():\n",
    "    local_device_protos = device_lib.list_local_devices()\n",
    "    return [x for x in local_device_protos if x.device_type == 'GPU']\n",
    "\n",
    "\n",
    "\n",
    "print(\"GPU device id: \", tf.test.gpu_device_name())\n",
    "print(\"GPU details: \\n\" , get_available_gpus())"
   ]
  },
  {
   "cell_type": "code",
   "execution_count": 3,
   "metadata": {},
   "outputs": [
    {
     "name": "stdout",
     "output_type": "stream",
     "text": [
      "build UNet ...\n"
     ]
    }
   ],
   "source": [
    "## load the UNet model from UNETmodel.py\n",
    "# details the the network can be found here: \n",
    "from includes.UNETmodel import UNet\n",
    "\n",
    "# create model takes two arguments, the dimension of the input image (width x height x channels)\n",
    "# and the number of classes \n",
    "# TODO: check if the last activation function is correctly choosen in this implementation!\n",
    "with tf.device('/cpu:0'):\n",
    "    #unet = UNet().create_model((540,300,1),1, d=32)\n",
    "    #unet.load_weights(\"/tf/results/models/Unet_0-0-1_20200413-105017.h5\")\n",
    "    \n",
    "    unet = UNet().create_model((720,540,1), 1 , d=8)\n",
    "    unet.load_weights(\"/tf/results/models/Unet_0-0-5_fl_RAdam_20200610-141144.h5\")\n",
    "\n",
    "network = 'Cell_contours_evaluation_data_'"
   ]
  },
  {
   "cell_type": "code",
   "execution_count": 4,
   "metadata": {},
   "outputs": [],
   "source": [
    "#### Copied Training setup\n",
    "from datetime import datetime\n",
    "\n",
    "test_size = 0.2\n",
    "random_state = 121\n",
    "epochs = 100\n",
    "batch_size = 4\n",
    "learning_rate = 1e-5\n",
    "loss = 'binary_crossentropy'\n",
    "metrics = ['accuracy']\n",
    "stats = dict(\n",
    "    name=\"Unet\",\n",
    "    version=\"0-0-1\",\n",
    "    date=datetime.now().strftime('%Y%m%d-%H%M%S'),\n",
    "    data_raw=\"-\".join([\"M1p1\",\"M1p2\",\"M1p3\"]),\n",
    "    data_split=\"%d-%d\"%(test_size*100, random_state),\n",
    "    model_path=\"/tf/results/results/models/\",\n",
    "    model_ext=\"h5\",\n",
    "    log_path=\"/tf/results/results/logs/\",\n",
    "    img_path=\"/tf/results/results/singlePredictions/\"\n",
    ")"
   ]
  },
  {
   "cell_type": "markdown",
   "metadata": {},
   "source": [
    "## Convert mask to ellipse\n",
    "There are 2 steps to perform. The first is the conversion from a binary mask to individual object edges. We achieve this by the scikit-image methods **label**, which enumerates the individual patches of objects within the mask.\n",
    "In the second step we apply the function **regionprops** to the pixel positions of the mask edge pixels."
   ]
  },
  {
   "cell_type": "code",
   "execution_count": 5,
   "metadata": {},
   "outputs": [],
   "source": [
    "from skimage.measure import label\n",
    "from skimage.measure import regionprops\n",
    "from skimage.morphology import binary_erosion\n",
    "import cv2\n",
    "import os\n",
    "import imageio\n",
    "import numpy as np\n",
    "\n",
    "def fit_ellipses_regionprops(p):\n",
    "    labeled = label(p)\n",
    "    out = []\n",
    "    for region in regionprops(labeled,p):  \n",
    "        if region.area >= 100: #analyze only regions larger than 100 pixels\n",
    "        #if region.area >= Amin_pixels:\n",
    "            fit = ((region.centroid[0],region.centroid[1]),(region.minor_axis_length,region.major_axis_length),90 - np.rad2deg(-region.orientation))\n",
    "            out.append(fit)\n",
    "    return out"
   ]
  },
  {
   "cell_type": "code",
   "execution_count": 6,
   "metadata": {},
   "outputs": [],
   "source": [
    "def preprocess(img):\n",
    "    return (img - np.mean(img)) / np.std(img).astype(np.float32)"
   ]
  },
  {
   "cell_type": "markdown",
   "metadata": {},
   "source": [
    "## Show results for individual image\n",
    "We apply the network to the image with the number \"id\" in the clickpoints database.\n",
    "We plot the original image, the predicted likelihood, the human expert mask and the prediction mask.<br>\n",
    "We alpha overlay this with the fitted ellipses from the prediction mask image in red."
   ]
  },
  {
   "cell_type": "code",
   "execution_count": null,
   "metadata": {},
   "outputs": [],
   "source": [
    "# load the training images and masks\n",
    "import os\n",
    "import imageio\n",
    "import numpy as np\n",
    "search_path = '../results/cell_contour/evaluate'\n",
    "images = []\n",
    "masks = []\n",
    "\n",
    "for root, dirs, files in os.walk(search_path):\n",
    "    for file in files:\n",
    "        if not file.endswith(\".tif\"):\n",
    "            continue\n",
    "        imgfile_path = os.path.abspath(os.path.join(root, file))\n",
    "        maskfile_path = imgfile_path.replace(\"/New_Evaluate_Images/\", \"/New_Evaluate_Masks/\")\n",
    "        \n",
    "        if not os.path.isfile(maskfile_path):\n",
    "            continue\n",
    "        img = imageio.imread(imgfile_path)\n",
    "        if len(img.shape) == 3:\n",
    "            img = img[:,:,0]\n",
    "        images.append(np.array(preprocess(img))[:,:,None])\n",
    "        masks.append(np.array(imageio.imread(maskfile_path), dtype=np.float32)[:,:,None]/255.)\n",
    "images = np.asarray(images)\n",
    "masks = np.asarray(masks)\n",
    "\n",
    "print(images.shape)\n",
    "print(masks.shape)"
   ]
  },
  {
   "cell_type": "raw",
   "metadata": {},
   "source": [
    "maskfile_path"
   ]
  },
  {
   "cell_type": "code",
   "execution_count": null,
   "metadata": {},
   "outputs": [],
   "source": [
    "id=5\n",
    "#21, 23 hat Halo\n",
    "\n",
    "with tf.device('/cpu:0'):\n",
    "    prediction=unet.predict(images[id:id+1])\n",
    "    \n",
    "import matplotlib.pyplot as plt\n",
    "from matplotlib.patches import Ellipse\n",
    "\n",
    "#Canny-filter\n",
    "from skimage import feature\n",
    "from scipy.ndimage import morphology\n",
    "struct = morphology.generate_binary_structure(2, 1)  #structural element for binary erosion\n",
    "\n",
    "\n",
    "pred = prediction[0]\n",
    "print(np.shape(pred))\n",
    "\n",
    "im1o = feature.canny(images[id].squeeze(), sigma=2.5, low_threshold=0.6, high_threshold=0.99, use_quantiles=True) #edge detection           \n",
    "im2o = morphology.binary_fill_holes(im1o, structure=struct).astype(int) #fill holes\n",
    "im3o = morphology.binary_erosion(im2o, structure=struct).astype(int) #erode to remove lines and small dirt\n",
    "ellipses_n = np.array([[y,x,b,a,-phi] for (x,y), (a,b), phi in fit_ellipses_regionprops(im3o)])\n",
    "\n",
    "fig, axes = plt.subplots(1,4,figsize=[16,5],)\n",
    "ax=axes[0]\n",
    "ax.set_title(\"original\")\n",
    "ax.imshow(images[id].squeeze())\n",
    "ax.set_axis_off()\n",
    "\n",
    "ax=axes[1]\n",
    "ax.set_title(\"human expert mask\")\n",
    "ax.imshow(masks[id].squeeze())\n",
    "ax.set_axis_off()\n",
    "\n",
    "ax=axes[2]\n",
    "ax.set_title(\"Canny filter [binary]]\")\n",
    "ax.imshow(im3o.squeeze())\n",
    "ax.set_axis_off()\n",
    "\n",
    "for ell in fit_ellipses_regionprops(im3o.squeeze()):\n",
    "    xy, (a,b), phi = ell\n",
    "    e = Ellipse([xy[1],xy[0]], width=b,height=a, angle=-phi, fill=True, edgecolor = 'b',linestyle='--')\n",
    "    ax.add_artist(e)\n",
    "    e.set_alpha(0.5)\n",
    "    e.set_facecolor((1.,0.,0.))\n",
    "    #e.set_edgecolor(('r'))\n",
    "\n",
    "ax=axes[3]\n",
    "ax.set_title(\"prediction mask [binary]\")\n",
    "ax.imshow(pred.squeeze()>0.5)\n",
    "ax.set_axis_off()\n",
    "\n",
    "for ell in fit_ellipses_regionprops(prediction.squeeze()>0.5):\n",
    "    xy, (a,b), phi = ell\n",
    "    e = Ellipse([xy[1],xy[0]], width=b,height=a, angle=-phi, fill=True, edgecolor = 'b',linestyle='--')\n",
    "    ax.add_artist(e)\n",
    "    e.set_alpha(0.5)\n",
    "    e.set_facecolor((1.,0.,0.))\n",
    "    #e.set_edgecolor(('r'))\n",
    "    #print(np.array([[y,x,b,a,-phi] for (x,y), (a,b), phi in fit_ellipses_regionprops(prediction.squeeze()>0.5)]))\n",
    "    \n",
    "np.shape(prediction.squeeze())"
   ]
  },
  {
   "cell_type": "markdown",
   "metadata": {},
   "source": [
    "## Apply to all images\n",
    "We apply the network to all images. Most of the code is handling of file paths and Database entries to get the prediction to the correct img. The actual ellipse prediction for raw image **img** is:\n",
    "```python\n",
    "prediction_mask =unet.predict(img[None,:,:,0,None].astype(np.float32)/255.).squeeze()>0.5\n",
    "ellipses_n = np.array([[y,x,b,a,-phi] for (x,y), (a,b), phi in fit_ellipses_regionprops(prediction_mask)])\n",
    "```\n",
    "We match the predicted ellipses to the original ones, enabling us to calculate evaluation metrics. For this we use the euclidian distance between a **ground truth** (manual acquired) ellipse and a **system** (redicted by network + regionprops) ellipse center as the cost of matching this pair. We match via the **linear_sum_assignment** function implemented in scipy, which builts up on the \"hungarian algorithm\" by Kuhn and Munkres [Kuhn55].<br>\n",
    "Additionaly, the center distance has to be below 50 pixels.<br>\n",
    "We save the predicted and ground truth ellipses in arrays for the neural network and the ground truth and sepatate array for the matched ellipses.\n",
    "<br><br>\n",
    "H. W. Kuhn (1955): The Hungarian method for the assignment problem. Naval Research Logistics Quarterly 2, S. 83–97."
   ]
  },
  {
   "cell_type": "code",
   "execution_count": 7,
   "metadata": {},
   "outputs": [
    {
     "name": "stdout",
     "output_type": "stream",
     "text": [
      "no openslide found\n",
      "New threshold: 0.1\n",
      "path /tf/results/cell_contours/evaluate/gt_2_ben.cdb\n",
      "Open database with version 22\n",
      "#371 found\n",
      "#500 images\n",
      "[1]\n",
      "Threshold: 0.1\n",
      "(369, 5)\n",
      "GT and SysR\n",
      "(364, 5)\n",
      "(1371, 5)\n",
      "(364, 5)\n",
      "total true: 369\n",
      "TP = 364 ,FN = 5 ,FP = 1007\n",
      "Neural Network + Regionprops: \n",
      " precision = 0.2655, recall = 0.9864, F1-score = 0.4184\n",
      "New threshold: 0.2\n",
      "path /tf/results/cell_contours/evaluate/gt_2_ben.cdb\n",
      "Open database with version 22\n",
      "#371 found\n",
      "#500 images\n",
      "[1, 2]\n",
      "Threshold: 0.2\n",
      "(369, 5)\n",
      "GT and SysR\n",
      "(365, 5)\n",
      "(860, 5)\n",
      "(365, 5)\n",
      "total true: 369\n",
      "TP = 365 ,FN = 4 ,FP = 495\n",
      "Neural Network + Regionprops: \n",
      " precision = 0.4244, recall = 0.9892, F1-score = 0.5940\n",
      "New threshold: 0.30000000000000004\n",
      "path /tf/results/cell_contours/evaluate/gt_2_ben.cdb\n",
      "Open database with version 22\n",
      "#371 found\n",
      "#500 images\n",
      "[1, 2, 11]\n",
      "Threshold: 0.30000000000000004\n",
      "(369, 5)\n",
      "GT and SysR\n",
      "(355, 5)\n",
      "(669, 5)\n",
      "(355, 5)\n",
      "total true: 369\n",
      "TP = 355 ,FN = 14 ,FP = 314\n",
      "Neural Network + Regionprops: \n",
      " precision = 0.5306, recall = 0.9621, F1-score = 0.6840\n",
      "New threshold: 0.4\n",
      "path /tf/results/cell_contours/evaluate/gt_2_ben.cdb\n",
      "Open database with version 22\n",
      "#371 found\n",
      "#500 images\n",
      "[1, 2, 11, 23]\n",
      "Threshold: 0.4\n",
      "(369, 5)\n",
      "GT and SysR\n",
      "(336, 5)\n",
      "(568, 5)\n",
      "(336, 5)\n",
      "total true: 369\n",
      "TP = 336 ,FN = 33 ,FP = 232\n",
      "Neural Network + Regionprops: \n",
      " precision = 0.5915, recall = 0.9106, F1-score = 0.7172\n",
      "New threshold: 0.5\n",
      "path /tf/results/cell_contours/evaluate/gt_2_ben.cdb\n",
      "Open database with version 22\n",
      "#371 found\n",
      "#500 images\n",
      "[1, 2, 11, 23, 29]\n",
      "Threshold: 0.5\n",
      "(369, 5)\n",
      "GT and SysR\n",
      "(311, 5)\n",
      "(480, 5)\n",
      "(311, 5)\n",
      "total true: 369\n",
      "TP = 311 ,FN = 58 ,FP = 169\n",
      "Neural Network + Regionprops: \n",
      " precision = 0.6479, recall = 0.8428, F1-score = 0.7326\n",
      "New threshold: 0.6\n",
      "path /tf/results/cell_contours/evaluate/gt_2_ben.cdb\n",
      "Open database with version 22\n",
      "#371 found\n",
      "#500 images\n",
      "[1, 2, 11, 23, 29, 29]\n",
      "Threshold: 0.6\n",
      "(369, 5)\n",
      "GT and SysR\n",
      "(276, 5)\n",
      "(410, 5)\n",
      "(276, 5)\n",
      "total true: 369\n",
      "TP = 276 ,FN = 93 ,FP = 134\n",
      "Neural Network + Regionprops: \n",
      " precision = 0.6732, recall = 0.7480, F1-score = 0.7086\n",
      "New threshold: 0.7000000000000001\n",
      "path /tf/results/cell_contours/evaluate/gt_2_ben.cdb\n",
      "Open database with version 22\n",
      "#371 found\n",
      "#500 images\n",
      "[1, 2, 11, 23, 29, 29, 47]\n",
      "Threshold: 0.7000000000000001\n",
      "(369, 5)\n",
      "GT and SysR\n",
      "(234, 5)\n",
      "(355, 5)\n",
      "(234, 5)\n",
      "total true: 369\n",
      "TP = 234 ,FN = 135 ,FP = 121\n",
      "Neural Network + Regionprops: \n",
      " precision = 0.6592, recall = 0.6341, F1-score = 0.6464\n",
      "New threshold: 0.8\n",
      "path /tf/results/cell_contours/evaluate/gt_2_ben.cdb\n",
      "Open database with version 22\n",
      "#371 found\n",
      "#500 images\n",
      "[1, 2, 11, 23, 29, 29, 47, 58]\n",
      "Threshold: 0.8\n",
      "(369, 5)\n",
      "GT and SysR\n",
      "(180, 5)\n",
      "(281, 5)\n",
      "(180, 5)\n",
      "total true: 369\n",
      "TP = 180 ,FN = 189 ,FP = 101\n",
      "Neural Network + Regionprops: \n",
      " precision = 0.6406, recall = 0.4878, F1-score = 0.5538\n",
      "New threshold: 0.9\n",
      "path /tf/results/cell_contours/evaluate/gt_2_ben.cdb\n",
      "Open database with version 22\n",
      "#371 found\n",
      "#500 images\n",
      "[1, 2, 11, 23, 29, 29, 47, 58, 91]\n",
      "Threshold: 0.9\n",
      "(369, 5)\n",
      "GT and SysR\n",
      "(93, 5)\n",
      "(211, 5)\n",
      "(93, 5)\n",
      "total true: 369\n",
      "TP = 93 ,FN = 276 ,FP = 118\n",
      "Neural Network + Regionprops: \n",
      " precision = 0.4408, recall = 0.2520, F1-score = 0.3207\n",
      "New threshold: 0.91\n",
      "path /tf/results/cell_contours/evaluate/gt_2_ben.cdb\n",
      "Open database with version 22\n",
      "#371 found\n",
      "#500 images\n",
      "[1, 2, 11, 23, 29, 29, 47, 58, 91, 88]\n",
      "Threshold: 0.91\n",
      "(369, 5)\n",
      "GT and SysR\n",
      "(89, 5)\n",
      "(198, 5)\n",
      "(89, 5)\n",
      "total true: 369\n",
      "TP = 89 ,FN = 280 ,FP = 109\n",
      "Neural Network + Regionprops: \n",
      " precision = 0.4495, recall = 0.2412, F1-score = 0.3139\n",
      "New threshold: 0.92\n",
      "path /tf/results/cell_contours/evaluate/gt_2_ben.cdb\n",
      "Open database with version 22\n",
      "#371 found\n",
      "#500 images\n",
      "[1, 2, 11, 23, 29, 29, 47, 58, 91, 88, 84]\n",
      "Threshold: 0.92\n",
      "(369, 5)\n",
      "GT and SysR\n",
      "(86, 5)\n",
      "(190, 5)\n",
      "(86, 5)\n",
      "total true: 369\n",
      "TP = 86 ,FN = 283 ,FP = 104\n",
      "Neural Network + Regionprops: \n",
      " precision = 0.4526, recall = 0.2331, F1-score = 0.3077\n",
      "New threshold: 0.93\n",
      "path /tf/results/cell_contours/evaluate/gt_2_ben.cdb\n",
      "Open database with version 22\n",
      "#371 found\n",
      "#500 images\n",
      "[1, 2, 11, 23, 29, 29, 47, 58, 91, 88, 84, 94]\n",
      "Threshold: 0.93\n",
      "(369, 5)\n",
      "GT and SysR\n",
      "(70, 5)\n",
      "(183, 5)\n",
      "(70, 5)\n",
      "total true: 369\n",
      "TP = 70 ,FN = 299 ,FP = 113\n",
      "Neural Network + Regionprops: \n",
      " precision = 0.3825, recall = 0.1897, F1-score = 0.2536\n",
      "New threshold: 0.9400000000000001\n",
      "path /tf/results/cell_contours/evaluate/gt_2_ben.cdb\n",
      "Open database with version 22\n",
      "#371 found\n",
      "#500 images\n",
      "[1, 2, 11, 23, 29, 29, 47, 58, 91, 88, 84, 94, 94]\n",
      "Threshold: 0.9400000000000001\n",
      "(369, 5)\n",
      "GT and SysR\n",
      "(51, 5)\n",
      "(159, 5)\n",
      "(51, 5)\n",
      "total true: 369\n",
      "TP = 51 ,FN = 318 ,FP = 108\n",
      "Neural Network + Regionprops: \n",
      " precision = 0.3208, recall = 0.1382, F1-score = 0.1932\n",
      "New threshold: 0.9500000000000001\n",
      "path /tf/results/cell_contours/evaluate/gt_2_ben.cdb\n",
      "Open database with version 22\n",
      "#371 found\n",
      "#500 images\n",
      "[1, 2, 11, 23, 29, 29, 47, 58, 91, 88, 84, 94, 94, 85]\n",
      "Threshold: 0.9500000000000001\n",
      "(369, 5)\n",
      "GT and SysR\n",
      "(46, 5)\n",
      "(144, 5)\n",
      "(46, 5)\n",
      "total true: 369\n",
      "TP = 46 ,FN = 323 ,FP = 98\n",
      "Neural Network + Regionprops: \n",
      " precision = 0.3194, recall = 0.1247, F1-score = 0.1793\n",
      "New threshold: 0.9600000000000001\n",
      "path /tf/results/cell_contours/evaluate/gt_2_ben.cdb\n",
      "Open database with version 22\n",
      "#371 found\n",
      "#500 images\n",
      "[1, 2, 11, 23, 29, 29, 47, 58, 91, 88, 84, 94, 94, 85, 88]\n",
      "Threshold: 0.9600000000000001\n",
      "(369, 5)\n",
      "GT and SysR\n",
      "(32, 5)\n",
      "(130, 5)\n",
      "(32, 5)\n",
      "total true: 369\n",
      "TP = 32 ,FN = 337 ,FP = 98\n",
      "Neural Network + Regionprops: \n",
      " precision = 0.2462, recall = 0.0867, F1-score = 0.1283\n",
      "New threshold: 0.9700000000000001\n",
      "path /tf/results/cell_contours/evaluate/gt_2_ben.cdb\n",
      "Open database with version 22\n",
      "#371 found\n",
      "#500 images\n",
      "[1, 2, 11, 23, 29, 29, 47, 58, 91, 88, 84, 94, 94, 85, 88, 84]\n",
      "Threshold: 0.9700000000000001\n",
      "(369, 5)\n",
      "GT and SysR\n",
      "(26, 5)\n",
      "(118, 5)\n",
      "(26, 5)\n",
      "total true: 369\n",
      "TP = 26 ,FN = 343 ,FP = 92\n",
      "Neural Network + Regionprops: \n",
      " precision = 0.2203, recall = 0.0705, F1-score = 0.1068\n",
      "New threshold: 0.9800000000000001\n",
      "path /tf/results/cell_contours/evaluate/gt_2_ben.cdb\n",
      "Open database with version 22\n",
      "#371 found\n",
      "#500 images\n",
      "[1, 2, 11, 23, 29, 29, 47, 58, 91, 88, 84, 94, 94, 85, 88, 84, 78]\n",
      "Threshold: 0.9800000000000001\n",
      "(369, 5)\n",
      "GT and SysR\n",
      "(13, 5)\n",
      "(97, 5)\n",
      "(13, 5)\n",
      "total true: 369\n",
      "TP = 13 ,FN = 356 ,FP = 84\n",
      "Neural Network + Regionprops: \n",
      " precision = 0.1340, recall = 0.0352, F1-score = 0.0558\n",
      "New threshold: 0.9900000000000001\n",
      "path /tf/results/cell_contours/evaluate/gt_2_ben.cdb\n",
      "Open database with version 22\n",
      "#371 found\n",
      "#500 images\n",
      "[1, 2, 11, 23, 29, 29, 47, 58, 91, 88, 84, 94, 94, 85, 88, 84, 78, 52]\n",
      "Threshold: 0.9900000000000001\n",
      "(369, 5)\n",
      "GT and SysR\n",
      "(6, 5)\n",
      "(60, 5)\n",
      "(6, 5)\n",
      "total true: 369\n",
      "TP = 6 ,FN = 363 ,FP = 54\n",
      "Neural Network + Regionprops: \n",
      " precision = 0.1000, recall = 0.0163, F1-score = 0.0280\n",
      "Done!\n"
     ]
    }
   ],
   "source": [
    "import os\n",
    "import clickpoints\n",
    "import numpy as np\n",
    "from scipy.optimize import linear_sum_assignment\n",
    "from mpl_toolkits.axes_grid1 import make_axes_locatable\n",
    "import matplotlib.pyplot as plt\n",
    "\n",
    "from skimage.draw import ellipse       # generate binary mask\n",
    "from matplotlib.path import Path\n",
    "\n",
    "# change this path to do the evaluation for the training data\n",
    "search_path = '../results/cell_contours/evaluate'\n",
    "file_list = []\n",
    "for root, dirs, files in os.walk(search_path):\n",
    "    for file in files:\n",
    "        if not file.endswith(\".cdb\"):\n",
    "            continue\n",
    "        file_list.append(os.path.abspath(os.path.join(root, file)))\n",
    "# all cdb files with images and ellipses\n",
    "\n",
    "len_tot = 0\n",
    "\n",
    "Trues = []\n",
    "TP = []\n",
    "FN = []\n",
    "FP = []\n",
    "precision = []\n",
    "TPR = []\n",
    "F1 = []\n",
    "num_cells = 0\n",
    "\n",
    "nx, ny = 540,720\n",
    "x, y = np.meshgrid(np.arange(nx), np.arange(ny))\n",
    "x, y = x.flatten(), y.flatten()\n",
    "points = np.vstack((x,y)).T\n",
    "\n",
    "#Thresholds = np.arange(0.1,1,0.1)\n",
    "Thresholds = list(np.arange(0.1,1,0.1)) + list(np.arange(0.91,1,0.01))\n",
    "Thresholds = np.array(Thresholds)\n",
    "\n",
    "\n",
    "area_too_small = []\n",
    "overlap = []\n",
    "num_overlap = []\n",
    "\n",
    "for threshold in Thresholds:\n",
    "    print('New threshold: {}'.format(threshold))\n",
    "    GT = []  # Manually acquired ellipses\n",
    "    GTMatchR = []\n",
    "    SysMatchR = []  # System ellipses (regionprops) with matching ellipses\n",
    "    SysR = []  # By system acquired (regionprops)\n",
    "    \n",
    "    for cdb_file in file_list[0:4]:\n",
    "        cdb = clickpoints.DataFile(cdb_file)\n",
    "        \n",
    "        q_poly = cdb.getPolygons()\n",
    "        print(\"#%d found\" % q_poly.count())\n",
    "\n",
    "        # get the image ids which contain at least on polygon # in ground truth\n",
    "        img_ids = np.unique([el.image.id for el in q_poly])\n",
    "        #print(img_ids)\n",
    "        \n",
    "        # How many images in cdb\n",
    "        q_img = cdb.getImages()\n",
    "        ids = np.unique([i.id for i in q_img])\n",
    "        print(\"#%d images\" % len(ids))\n",
    "        #print(len(ids))\n",
    "        len_tot += len(ids)\n",
    "        area = 0\n",
    "        \n",
    "        for id in ids:\n",
    "            # get image object by id and image data\n",
    "            img_o = cdb.getImage(id=id)\n",
    "            img   = img_o.get_data()\n",
    "            if len(img.shape) == 3:\n",
    "                img = img[:,:,0]\n",
    "            with tf.device('/cpu:0'):\n",
    "                im = preprocess(img[None,:,:,None])\n",
    "                prediction_mask = unet.predict(im).squeeze() > threshold\n",
    "                ellipses_r = np.array([[y,x,b,a,-phi] for (x,y), (a,b), phi in fit_ellipses_regionprops(prediction_mask)])\n",
    "\n",
    "            SysR.extend(ellipses_r)\n",
    "            # get ellipses in this image \n",
    "            \n",
    "            if id in img_ids:\n",
    "                nx, ny = 540,720\n",
    "                x, y = np.meshgrid(np.arange(nx), np.arange(ny))\n",
    "                x, y = x.flatten(), y.flatten()\n",
    "                points = np.vstack((x,y)).T\n",
    "\n",
    "                mask = np.zeros((img.shape[0:2]), dtype=np.uint8)\n",
    "                q_polys=cdb.getPolygons(image=img_o)\n",
    "                for pol in q_polys:\n",
    "                    if np.shape(pol)[0] != 0:\n",
    "                        num_cells += 1\n",
    "                        polygon = np.array([pol.points])\n",
    "                        path = Path(polygon.squeeze())\n",
    "                        grid = path.contains_points(points)\n",
    "                        grid = grid.reshape((ny,nx))\n",
    "                        mask += grid\n",
    "\n",
    "                ellipses_o = np.array([[y,x,b,a,-phi] for (x,y), (a,b), phi in fit_ellipses_regionprops(mask)])\n",
    "                GT.extend(ellipses_o)\n",
    "\n",
    "                ### Try matching with GT ###\n",
    "                #print('GT and prediction comparison')           \n",
    "                if np.shape(ellipses_r)[0] != 0 and np.shape(ellipses_o)[0] != 0:    \n",
    "                    costR = np.linalg.norm(ellipses_o[None,:,:2]-ellipses_r[:,None,:2], axis=-1)\n",
    "                    sys_ids_r, gt_ids_r = linear_sum_assignment(costR)     \n",
    "\n",
    "                    #print(sys_ids_r)\n",
    "                    # costR has to be under a certain value. Centers have to be at closer than 50 pixels apart\n",
    "                    index = []\n",
    "                    for i in range(len(sys_ids_r)):\n",
    "                        if costR[sys_ids_r[i],gt_ids_r[i]] > 50:\n",
    "                            #print('Here R')\n",
    "                            #print(sys_ids_r,gt_ids_r, costR)\n",
    "                            index.append(i)\n",
    "                            \n",
    "                    sys_ids_r = np.delete(sys_ids_r,index)\n",
    "                    gt_ids_r = np.delete(gt_ids_r,index)\n",
    "                    #print(sys_ids_r)\n",
    "                    #print(sys_ids_r,gt_ids_r)\n",
    "                    len_before = len(sys_ids_r)\n",
    "                    # We just accept ellipses that have a min area overlap of 0.7 area of GT ellipse\n",
    "                    index = []\n",
    "                    for i in range(len(sys_ids_r)):\n",
    "                        el=ellipses_o[gt_ids_r[i]]\n",
    "                        mask_o = np.zeros((np.shape(img)[0:2]), dtype=np.uint8)\n",
    "                        ys,xs = ellipse(el[0], el[1],  el[2]/2, el[3]/2, rotation=np.deg2rad(el[4]))\n",
    "                        for n in range(len(xs)):\n",
    "                            if xs[n]<720 and ys[n] < 540:\n",
    "                                mask_o[xs[n],ys[n]] = 1\n",
    "                        el=ellipses_r[sys_ids_r[i]]\n",
    "                        mask_r = np.zeros((np.shape(img)[0:2]), dtype=np.uint8)\n",
    "                        ysr,xsr = ellipse(el[0], el[1],  el[2]/2, el[3]/2, rotation=np.deg2rad(el[4]))\n",
    "                        for n in range(len(xsr)):\n",
    "                            if xsr[n]<720 and ysr[n] < 540:\n",
    "                                mask_r[xsr[n],ysr[n]] = 1\n",
    "                        overlap.append(np.sum(mask_o * mask_r) / np.sum(mask_o))\n",
    "\n",
    "                        if np.sum(mask_o * mask_r) < 0.7 * np.sum(mask_o):\n",
    "                            index.append(i)\n",
    "                            area += 1\n",
    "                    sys_ids_r = np.delete(sys_ids_r,index)\n",
    "                    gt_ids_r = np.delete(gt_ids_r,index)\n",
    "                    len_after = len(sys_ids_r)\n",
    "\n",
    "                    GTMatchR.extend(ellipses_o[gt_ids_r])\n",
    "                    SysMatchR.extend(ellipses_r[sys_ids_r])\n",
    "    \n",
    "    area_too_small.append(area)\n",
    "    print(area_too_small)\n",
    "    \n",
    "    plt.plot(overlap,'o')\n",
    "    num_overlap.append(len(overlap))\n",
    "    \n",
    "    GT=np.array(GT)\n",
    "\n",
    "    # Matched ellipses with regionprops\n",
    "    GTMatchR=np.array(GTMatchR)\n",
    "    SysR=np.array(SysR)\n",
    "    SysMatchR=np.array(SysMatchR)\n",
    "\n",
    "    print('Threshold: {}'.format(threshold))\n",
    "\n",
    "    print(np.shape(GT))\n",
    "\n",
    "    print('GT and SysR')\n",
    "    print(np.shape(GTMatchR))\n",
    "    print(np.shape(SysR))\n",
    "    print(np.shape(SysMatchR))\n",
    "\n",
    "    Trues.append(np.shape(GT)[0])\n",
    "    print('total true: {}'.format(Trues[-1]))\n",
    "\n",
    "    TP.append(np.shape(SysMatchR)[0])\n",
    "    FN.append(np.shape(GT)[0] - np.shape(SysMatchR)[0])\n",
    "    FP.append(np.shape(SysR)[0] - np.shape(SysMatchR)[0])\n",
    "\n",
    "    print('TP = {} ,FN = {} ,FP = {}'.format(TP[-1],FN[-1],FP[-1]))\n",
    "    precision.append(TP[-1] / (TP[-1] + FP[-1]))\n",
    "    TPR.append(TP[-1] / (TP[-1] + FN[-1]))\n",
    "    try:\n",
    "        F1.append((2 * precision[-1] * TPR[-1]) / (precision[-1] + TPR[-1]))\n",
    "    except:\n",
    "        F1.append(0)\n",
    "    print('Neural Network + Regionprops: \\n precision = %.4f, recall = %.4f, F1-score = %.4f' % (precision[-1], TPR[-1], F1[-1]))\n",
    "\n",
    "print('Done!')"
   ]
  },
  {
   "cell_type": "code",
   "execution_count": 9,
   "metadata": {},
   "outputs": [],
   "source": [
    "network = 'new'"
   ]
  },
  {
   "cell_type": "markdown",
   "metadata": {},
   "source": [
    "# Visualize the effect of the area overlap criterion\n",
    "\n",
    "The match is only accepted if the area overlap is bigger than 0.7.\n",
    "\n",
    "If that is not the case, the ellipse is considered a false positive instead of a true positive."
   ]
  },
  {
   "cell_type": "code",
   "execution_count": 9,
   "metadata": {},
   "outputs": [
    {
     "name": "stderr",
     "output_type": "stream",
     "text": [
      "findfont: Font family ['sans-serif'] not found. Falling back to DejaVu Sans.\n"
     ]
    },
    {
     "data": {
      "image/png": "[encoded data removed]",
      "text/plain": [
       "<Figure size 1152x360 with 10 Axes>"
      ]
     },
     "metadata": {
      "needs_background": "light"
     },
     "output_type": "display_data"
    }
   ],
   "source": [
    "#dev_1 = overlap[num_overlap[9] + 1:num_overlap[10]]\n",
    "#dev_2 = overlap[num_overlap[10] + 1:num_overlap[11]]\n",
    "#dev_3 = overlap[num_overlap[11] + 1:num_overlap[12]]\n",
    "#dev_4 = overlap[num_overlap[12] + 1:num_overlap[13]]\n",
    "#dev_5 = overlap[num_overlap[13] + 1:num_overlap[14]]\n",
    "#dev_6 = overlap[num_overlap[14] + 1:num_overlap[15]]\n",
    "#dev_7 = overlap[num_overlap[15] + 1:num_overlap[16]]\n",
    "#dev_8 = overlap[num_overlap[16] + 1:num_overlap[17]]\n",
    "#dev_9 = overlap[num_overlap[17] + 1:num_overlap[18]]\n",
    "\n",
    "font = {'family' : 'sans-serif',\n",
    "        'sans-serif':['Arial'],\n",
    "        'weight' : 'normal',\n",
    "        'size'   : 14}\n",
    "plt.rc('font', **font)\n",
    "plt.rc('legend', fontsize=12)\n",
    "plt.rc('axes', titlesize=18)    \n",
    "plt.rcParams['axes.linewidth'] = 0.1 #set the value globally\n",
    "\n",
    "\n",
    "dev_1 = overlap[:num_overlap[0]]\n",
    "dev_2 = overlap[num_overlap[0] + 1:num_overlap[1]]\n",
    "dev_3 = overlap[num_overlap[1] + 1:num_overlap[2]]\n",
    "dev_4 = overlap[num_overlap[2] + 1:num_overlap[3]]\n",
    "dev_5 = overlap[num_overlap[3] + 1:num_overlap[4]]\n",
    "dev_6 = overlap[num_overlap[4] + 1:num_overlap[5]]\n",
    "dev_7 = overlap[num_overlap[5] + 1:num_overlap[6]]\n",
    "dev_8 = overlap[num_overlap[6] + 1:num_overlap[7]]\n",
    "dev_9 = overlap[num_overlap[7] + 1:num_overlap[8]]\n",
    "\n",
    "#dev_111 = overlap[num_overlap[-1] + 1:num_overlap[-2]]\n",
    "\n",
    "fig, axes = plt.subplots(2,5,figsize=[16,5],)\n",
    "axes=np.array(axes)\n",
    "\n",
    "ax = axes[0,0]\n",
    "ax.plot(dev_1,'o')\n",
    "ax.set_xlabel(\"#Cells, th=0.1\")\n",
    "ax.set_ylabel('Area overlap')\n",
    "ax.set_ylim(0,1.1)\n",
    "\n",
    "ax = axes[0,1]\n",
    "ax.plot(dev_2,'o')\n",
    "ax.set_xlabel(\"#Cells, th=0.2\")\n",
    "ax.set_ylabel('Area overlap')\n",
    "ax.set_ylim(0,1.1)\n",
    "\n",
    "ax = axes[0,2]\n",
    "ax.plot(dev_3,'o')\n",
    "ax.set_xlabel(\"#Cells, th=0.3\")\n",
    "ax.set_ylabel('Area overlap')\n",
    "ax.set_ylim(0,1.1)\n",
    "\n",
    "ax = axes[0,3]\n",
    "ax.plot(dev_4,'o')\n",
    "ax.set_xlabel(\"#Cells, th=0.4\")\n",
    "ax.set_ylabel('Area overlap')\n",
    "ax.set_ylim(0,1.1)\n",
    "\n",
    "ax = axes[0,4]\n",
    "ax.plot(dev_5,'o')\n",
    "ax.set_xlabel(\"#Cells, th=0.5\")\n",
    "ax.set_ylabel('Area overlap')\n",
    "ax.set_ylim(0,1.1)\n",
    "\n",
    "ax = axes[1,0]\n",
    "ax.plot(dev_6,'o')\n",
    "ax.set_xlabel(\"#Cells, th=0.6\")\n",
    "ax.set_ylabel('Area overlap')\n",
    "ax.set_ylim(0,1.1)\n",
    "\n",
    "ax = axes[1,1]\n",
    "ax.plot(dev_7,'o')\n",
    "ax.set_xlabel(\"#Cells, th=0.7\")\n",
    "ax.set_ylabel('Area overlap')\n",
    "ax.set_ylim(0,1.1)\n",
    "\n",
    "ax = axes[1,2]\n",
    "ax.plot(dev_8,'o')\n",
    "ax.set_xlabel(\"#Cells, th=0.8\")\n",
    "ax.set_ylabel('Area overlap')\n",
    "ax.set_ylim(0,1.1)\n",
    "\n",
    "ax = axes[1,3]\n",
    "ax.plot(dev_9,'o')\n",
    "ax.set_xlabel(\"#Cells, th=0.9\")\n",
    "ax.set_ylabel('Area overlap')\n",
    "ax.set_ylim(0,1.1)\n",
    "\n",
    "from matplotlib.pyplot import vlines\n",
    "ax = axes[1,4]\n",
    "ax.plot(overlap,'o')\n",
    "ax.set_xlabel(\"#Cells, th=[0.1,0.99]\")\n",
    "ax.set_ylabel('Area overlap')\n",
    "ax.set_ylim(0,1.1)\n",
    "ax.vlines(num_overlap,0,1)\n",
    "\n",
    "fig.tight_layout()\n",
    "plt.savefig('/tf/results/results_new/ROC/' + network + 'area_overlaps' + '.png')"
   ]
  },
  {
   "cell_type": "code",
   "execution_count": 17,
   "metadata": {},
   "outputs": [
    {
     "name": "stdout",
     "output_type": "stream",
     "text": [
      "[0.1  0.2  0.3  0.4  0.5  0.6  0.7  0.8  0.9  0.91 0.92 0.93 0.94 0.95\n",
      " 0.96 0.97 0.98 0.99]\n"
     ]
    }
   ],
   "source": [
    "print(Thresholds)"
   ]
  },
  {
   "cell_type": "code",
   "execution_count": 17,
   "metadata": {},
   "outputs": [
    {
     "name": "stdout",
     "output_type": "stream",
     "text": [
      "[7.29394602e-04 2.32558140e-03 1.64424514e-02 4.04929577e-02\n",
      " 6.04166667e-02 7.07317073e-02 1.32394366e-01 2.06405694e-01\n",
      " 4.31279621e-01 4.44444444e-01 4.42105263e-01 5.13661202e-01\n",
      " 5.91194969e-01 5.90277778e-01 6.76923077e-01 7.11864407e-01\n",
      " 8.04123711e-01 8.66666667e-01]\n"
     ]
    },
    {
     "data": {
      "image/png": "[encoded data removed]",
      "text/plain": [
       "<Figure size 360x288 with 1 Axes>"
      ]
     },
     "metadata": {
      "needs_background": "light"
     },
     "output_type": "display_data"
    }
   ],
   "source": [
    "font = {'family' : 'sans-serif',\n",
    "        'sans-serif':['Arial'],\n",
    "        'weight' : 'normal',\n",
    "        'size'   : 14}\n",
    "plt.rc('font', **font)\n",
    "plt.rc('legend', fontsize=12)\n",
    "plt.rc('axes', titlesize=18)    \n",
    "plt.rcParams['axes.linewidth'] = 0.1 #set the value globally\n",
    "\n",
    "\n",
    "Trues = np.array(Trues)\n",
    "FP = np.array(FP)\n",
    "TP = np.array(TP)\n",
    "\n",
    "print(area_too_small/(FP + TP))\n",
    "\n",
    "fig, ax = plt.subplots(figsize=[5,4])\n",
    "\n",
    "plt.plot(Thresholds,area_too_small/(FP + TP)*100)\n",
    "plt.xlabel('Thresholds')\n",
    "plt.ylabel('% of cells with too small area')\n",
    "fig.tight_layout()\n",
    "plt.savefig('/tf/results/results_new/ROC/' + network + 'area_too_small' + '.png')"
   ]
  },
  {
   "cell_type": "markdown",
   "metadata": {},
   "source": [
    "## Plot ROC-Curve\n",
    "\n",
    "plot of TPR vs FPR for different thresholds"
   ]
  },
  {
   "cell_type": "code",
   "execution_count": 12,
   "metadata": {},
   "outputs": [
    {
     "name": "stdout",
     "output_type": "stream",
     "text": [
      "[0.1  0.2  0.3  0.4  0.5  0.6  0.7  0.8  0.9  0.91 0.92 0.93 0.94 0.95\n",
      " 0.96 0.97 0.98 0.99]\n",
      "[0.986449864498645, 0.989159891598916, 0.962059620596206, 0.9105691056910569, 0.8428184281842819, 0.7479674796747967, 0.6341463414634146, 0.4878048780487805, 0.25203252032520324, 0.24119241192411925, 0.23306233062330622, 0.1897018970189702, 0.13821138211382114, 0.12466124661246612, 0.08672086720867209, 0.07046070460704607, 0.03523035230352303, 0.016260162601626018]\n",
      "[1007  495  314  232  169  134  121  101  118  109  104  113  108   98\n",
      "   98   92   84   54]\n",
      "[364 365 355 336 311 276 234 180  93  89  86  70  51  46  32  26  13   6]\n"
     ]
    },
    {
     "data": {
      "image/png": "[encoded data removed]",
      "text/plain": [
       "<Figure size 360x288 with 1 Axes>"
      ]
     },
     "metadata": {
      "needs_background": "light"
     },
     "output_type": "display_data"
    }
   ],
   "source": [
    "import matplotlib.pyplot as plt\n",
    "print(Thresholds)\n",
    "print(TPR)\n",
    "print(FP)\n",
    "print(TP)\n",
    "fig, ax = plt.subplots(figsize=[5,4])\n",
    "\n",
    "FPR = FP/(np.max(FP))\n",
    "plt.plot(FPR,TPR)\n",
    "plt.plot([0,1],[0,1],'k--')\n",
    "\n",
    "plt.xlabel('False positive rate')\n",
    "plt.ylabel('True positive rate')\n",
    "fig.tight_layout()\n",
    "plt.savefig('/tf/results/results_new/ROC/ROC_curve/ROC_' + network + '.png')"
   ]
  },
  {
   "cell_type": "code",
   "execution_count": 33,
   "metadata": {},
   "outputs": [
    {
     "name": "stdout",
     "output_type": "stream",
     "text": [
      "0.8554199196411031\n",
      "0.989159891598916\n"
     ]
    },
    {
     "data": {
      "text/plain": [
       "0.8647943845138822"
      ]
     },
     "execution_count": 33,
     "metadata": {},
     "output_type": "execute_result"
    }
   ],
   "source": [
    "from numpy import trapz\n",
    "area = trapz(TPR, FPR)\n",
    "print(-area)\n",
    "print(np.max(TPR))\n",
    "-area/np.max(TPR)"
   ]
  },
  {
   "cell_type": "code",
   "execution_count": 19,
   "metadata": {},
   "outputs": [
    {
     "name": "stdout",
     "output_type": "stream",
     "text": [
      "Total area: 367555.0\n",
      "AUC: 317859.5\n",
      "AUC relative: 0.86479\n"
     ]
    },
    {
     "data": {
      "image/png": "[encoded data removed]",
      "text/plain": [
       "<Figure size 360x288 with 1 Axes>"
      ]
     },
     "metadata": {
      "needs_background": "light"
     },
     "output_type": "display_data"
    }
   ],
   "source": [
    "fig, ax = plt.subplots(figsize=[5,4])\n",
    "\n",
    "plt.plot(FP,TP)\n",
    "plt.xlabel('False positives')\n",
    "plt.ylabel('True positives')\n",
    "plt.plot([0,np.max(FP)],[0,np.max(TP)],'k--')\n",
    "fig.tight_layout()\n",
    "plt.savefig('/tf/results/results_new/ROC/ROC_curve/roc_absolute_' + network + '.png')\n",
    "area_total = (np.max(TP) * np.max(FP))\n",
    "print('Total area: %.1f' % area_total)\n",
    "area2 = -trapz(TP, FP)\n",
    "print('AUC: %.1f' % area2)\n",
    "print('AUC relative: %.5f' % (area2/area_total))"
   ]
  },
  {
   "cell_type": "code",
   "execution_count": 20,
   "metadata": {},
   "outputs": [
    {
     "name": "stderr",
     "output_type": "stream",
     "text": [
      "findfont: Font family ['sans-serif'] not found. Falling back to DejaVu Sans.\n"
     ]
    },
    {
     "name": "stdout",
     "output_type": "stream",
     "text": [
      "169 0.16782522343594836\n",
      "311 0.8428184281842819\n",
      "0.6479166666666667\n",
      "0.8428184281842819\n",
      "0.7326266195524146\n",
      "0.5\n"
     ]
    },
    {
     "data": {
      "image/png": "[encoded data removed]",
      "text/plain": [
       "<Figure size 360x288 with 1 Axes>"
      ]
     },
     "metadata": {
      "needs_background": "light"
     },
     "output_type": "display_data"
    }
   ],
   "source": [
    "fig, ax = plt.subplots(figsize=[5,4])\n",
    "plt.plot(Thresholds,FP)\n",
    "plt.plot(Thresholds,TP)\n",
    "plt.xlabel('Thresholds')\n",
    "plt.legend(['FP','TP'],loc=1)\n",
    "fig.tight_layout()\n",
    "plt.savefig('/tf/results/results_new/ROC/ROC_curve/tp_fp_absolute_' + network + '.png')\n",
    "print(FP[4], FPR[4])\n",
    "print(TP[4], TPR[4])\n",
    "print(precision[4])\n",
    "print(TPR[4])\n",
    "print(F1[4])\n",
    "print(Thresholds[4])"
   ]
  },
  {
   "cell_type": "code",
   "execution_count": 21,
   "metadata": {},
   "outputs": [
    {
     "data": {
      "image/png": "[encoded data removed]",
      "text/plain": [
       "<Figure size 360x288 with 1 Axes>"
      ]
     },
     "metadata": {
      "needs_background": "light"
     },
     "output_type": "display_data"
    }
   ],
   "source": [
    "fig, ax = plt.subplots(figsize=[5,4])\n",
    "plt.plot(Thresholds,FPR)\n",
    "plt.plot(Thresholds,TPR)\n",
    "plt.xlabel('Thresholds')\n",
    "plt.legend(['FPR','TPR'],loc=1)\n",
    "fig.tight_layout()\n",
    "plt.savefig('/tf/results/results_new/ROC/ROC_curve/tpr_fpr_' + network + '.png')"
   ]
  },
  {
   "cell_type": "code",
   "execution_count": 22,
   "metadata": {},
   "outputs": [
    {
     "name": "stdout",
     "output_type": "stream",
     "text": [
      "0.2556864248124254\n"
     ]
    },
    {
     "data": {
      "image/png": "[encoded data removed]",
      "text/plain": [
       "<Figure size 360x288 with 1 Axes>"
      ]
     },
     "metadata": {
      "needs_background": "light"
     },
     "output_type": "display_data"
    }
   ],
   "source": [
    "fig, ax = plt.subplots(figsize=[5,4])\n",
    "plt.plot(TPR, precision)\n",
    "plt.xlabel('recall')\n",
    "plt.ylabel('precision')\n",
    "fig.tight_layout()\n",
    "\n",
    "plt.savefig('/tf/results/results_new/ROC/ROC_curve/precision_recall_' + network + '.png')\n",
    "\n",
    "area = trapz(TPR, precision)\n",
    "print(area)"
   ]
  },
  {
   "cell_type": "code",
   "execution_count": 23,
   "metadata": {},
   "outputs": [
    {
     "data": {
      "image/png": "[encoded data removed]",
      "text/plain": [
       "<Figure size 360x288 with 1 Axes>"
      ]
     },
     "metadata": {
      "needs_background": "light"
     },
     "output_type": "display_data"
    }
   ],
   "source": [
    "fig, ax = plt.subplots(figsize=[5,4])\n",
    "plt.plot(Thresholds,precision)\n",
    "plt.xlabel('Thresholds')\n",
    "plt.ylabel('precision')\n",
    "fig.tight_layout()\n",
    "#plt.savefig('/tf/results/results_new/ROC/ROC_curve/precision_' + network + '.png')"
   ]
  },
  {
   "cell_type": "code",
   "execution_count": 24,
   "metadata": {},
   "outputs": [
    {
     "data": {
      "text/plain": [
       "Text(0, 0.5, 'recall')"
      ]
     },
     "execution_count": 24,
     "metadata": {},
     "output_type": "execute_result"
    },
    {
     "data": {
      "image/png": "[encoded data removed]",
      "text/plain": [
       "<Figure size 432x288 with 1 Axes>"
      ]
     },
     "metadata": {
      "needs_background": "light"
     },
     "output_type": "display_data"
    }
   ],
   "source": [
    "plt.plot(Thresholds,TPR)\n",
    "plt.xlabel('Thresholds')\n",
    "plt.ylabel('recall')\n",
    "#plt.savefig('/tf/results/results_new/ROC/ROC_curve/recall_' + network + '.png')"
   ]
  },
  {
   "cell_type": "code",
   "execution_count": 25,
   "metadata": {},
   "outputs": [
    {
     "name": "stdout",
     "output_type": "stream",
     "text": [
      "[0.986449864498645, 0.989159891598916, 0.962059620596206, 0.9105691056910569, 0.8428184281842819, 0.7479674796747967, 0.6341463414634146, 0.4878048780487805, 0.25203252032520324, 0.24119241192411925, 0.23306233062330622, 0.1897018970189702, 0.13821138211382114, 0.12466124661246612, 0.08672086720867209, 0.07046070460704607, 0.03523035230352303, 0.016260162601626018]\n",
      "[0.26549963530269877, 0.42441860465116277, 0.5306427503736921, 0.5915492957746479, 0.6479166666666667, 0.6731707317073171, 0.6591549295774648, 0.6405693950177936, 0.44075829383886256, 0.4494949494949495, 0.45263157894736844, 0.3825136612021858, 0.32075471698113206, 0.3194444444444444, 0.24615384615384617, 0.22033898305084745, 0.13402061855670103, 0.1]\n"
     ]
    },
    {
     "data": {
      "image/png": "[encoded data removed]",
      "text/plain": [
       "<Figure size 360x288 with 1 Axes>"
      ]
     },
     "metadata": {
      "needs_background": "light"
     },
     "output_type": "display_data"
    }
   ],
   "source": [
    "fig, ax = plt.subplots(figsize=[5,4])\n",
    "plt.plot(Thresholds,precision)\n",
    "plt.plot(Thresholds,TPR)\n",
    "plt.xlabel('Thresholds')\n",
    "plt.legend(['precision','recall'],loc=1)\n",
    "print(TPR)\n",
    "print(precision)\n",
    "fig.tight_layout()\n",
    "plt.savefig('/tf/results/results_new/ROC/ROC_curve/p_vs_r_' + network + '.png')"
   ]
  },
  {
   "cell_type": "code",
   "execution_count": 26,
   "metadata": {},
   "outputs": [
    {
     "data": {
      "text/plain": [
       "Text(0, 0.5, 'FPR')"
      ]
     },
     "execution_count": 26,
     "metadata": {},
     "output_type": "execute_result"
    },
    {
     "data": {
      "image/png": "[encoded data removed]",
      "text/plain": [
       "<Figure size 432x288 with 1 Axes>"
      ]
     },
     "metadata": {
      "needs_background": "light"
     },
     "output_type": "display_data"
    }
   ],
   "source": [
    "plt.plot(Thresholds,FPR)\n",
    "plt.xlabel('Thresholds')\n",
    "plt.ylabel('FPR')\n",
    "#plt.savefig('/tf/results/results_new/ROC/ROC_curve/FPR_' + network + '.png')"
   ]
  },
  {
   "cell_type": "code",
   "execution_count": 27,
   "metadata": {},
   "outputs": [
    {
     "data": {
      "image/png": "[encoded data removed]",
      "text/plain": [
       "<Figure size 360x288 with 1 Axes>"
      ]
     },
     "metadata": {
      "needs_background": "light"
     },
     "output_type": "display_data"
    }
   ],
   "source": [
    "fig, ax = plt.subplots(figsize=[5,4])\n",
    "plt.plot(Thresholds,F1)\n",
    "plt.xlabel('Thresholds')\n",
    "plt.ylabel('F1')\n",
    "fig.tight_layout()\n",
    "plt.savefig('/tf/results/results_new/ROC/ROC_curve/F1_' + network + '.png')"
   ]
  },
  {
   "cell_type": "code",
   "execution_count": 28,
   "metadata": {},
   "outputs": [
    {
     "name": "stdout",
     "output_type": "stream",
     "text": [
      "Cell_contours_evaluation_data_small_thresholds_kind_of_new\n",
      "0.6479166666666667\n",
      "0.8428184281842819\n",
      "0.7326266195524146\n"
     ]
    },
    {
     "data": {
      "text/plain": [
       "array([0.1 , 0.2 , 0.3 , 0.4 , 0.5 , 0.6 , 0.7 , 0.8 , 0.9 , 0.91, 0.92,\n",
       "       0.93, 0.94, 0.95, 0.96, 0.97, 0.98, 0.99])"
      ]
     },
     "execution_count": 28,
     "metadata": {},
     "output_type": "execute_result"
    }
   ],
   "source": [
    "print(network)\n",
    "print(precision[4])\n",
    "print(TPR[4])\n",
    "print(F1[4])\n",
    "Thresholds"
   ]
  }
 ],
 "metadata": {
  "kernelspec": {
   "display_name": "Python 3",
   "language": "python",
   "name": "python3"
  },
  "language_info": {
   "codemirror_mode": {
    "name": "ipython",
    "version": 3
   },
   "file_extension": ".py",
   "mimetype": "text/x-python",
   "name": "python",
   "nbconvert_exporter": "python",
   "pygments_lexer": "ipython3",
   "version": "3.6.8"
  }
 },
 "nbformat": 4,
 "nbformat_minor": 4
}
